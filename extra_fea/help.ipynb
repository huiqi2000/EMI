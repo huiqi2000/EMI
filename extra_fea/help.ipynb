{
 "cells": [
  {
   "cell_type": "code",
   "execution_count": 1,
   "metadata": {},
   "outputs": [],
   "source": [
    "import os\n",
    "import glob\n",
    "import subprocess"
   ]
  },
  {
   "cell_type": "code",
   "execution_count": 4,
   "metadata": {},
   "outputs": [],
   "source": [
    "video_dir_path = r'D:\\Desktop\\code\\6th-ABAW\\dataset\\raw'\n",
    "\n",
    "videos_path = glob.glob(os.path.join(video_dir_path, '*'))\n",
    "videos_path.sort()\n",
    "\n",
    "# videos_path = videos_path[1:]\n",
    "\n",
    "# print(videos_path[:3])\n",
    "# len(videos_path)\n",
    "\n",
    "video = 'video'\n",
    "save_path = os.path.join(r'D:\\Desktop\\code\\6th-ABAW\\dataset',video)\n",
    "if not os.path.exists(save_path): os.makedirs(save_path)\n",
    "\n",
    "\n",
    "# print(save_path)\n"
   ]
  },
  {
   "cell_type": "code",
   "execution_count": 6,
   "metadata": {},
   "outputs": [
    {
     "name": "stdout",
     "output_type": "stream",
     "text": [
      "00001\n",
      "D:\\Desktop\\code\\6th-ABAW\\dataset\\video\\00001.mp4\n"
     ]
    }
   ],
   "source": [
    "\n",
    "# 循环处理视频文件\n",
    "for video_path in videos_path:\n",
    "    filename = os.path.basename(video_path)[:-4]\n",
    "    print(filename)\n",
    "    output_path = os.path.join(save_path, filename) \n",
    "    \n",
    "    output_path = f\"{output_path}.mp4\"\n",
    "    print(output_path)\n",
    "\n",
    "    command = f\"ffmpeg -i {video_path} -r 30 {output_path}\"\n",
    "    subprocess.run(command, shell=True)\n",
    "    # break\n",
    "\n"
   ]
  },
  {
   "cell_type": "code",
   "execution_count": 2,
   "metadata": {},
   "outputs": [
    {
     "data": {
      "text/plain": [
       "CompletedProcess(args='ffmpeg -i D:\\\\Desktop\\\\code\\\\6th-ABAW\\\\test_data\\\\raw\\\\12793.mp4 -r 30 12793.mp4', returncode=0)"
      ]
     },
     "execution_count": 2,
     "metadata": {},
     "output_type": "execute_result"
    }
   ],
   "source": [
    "\n",
    "input_path = R'D:\\Desktop\\code\\6th-ABAW\\test_data\\raw\\12793.mp4'\n",
    "command = f\"ffmpeg -i {input_path} -r 30 12793.mp4\"\n",
    "subprocess.run(command, shell=True)\n"
   ]
  },
  {
   "cell_type": "code",
   "execution_count": 5,
   "metadata": {},
   "outputs": [
    {
     "data": {
      "text/plain": [
       "dtype('float32')"
      ]
     },
     "execution_count": 5,
     "metadata": {},
     "output_type": "execute_result"
    }
   ],
   "source": [
    "import pickle\n",
    "import numpy as np\n",
    "with open(r'D:\\Desktop\\code\\6th-ABAW\\dataset\\openface_aus\\00508.pkl', 'rb') as f:\n",
    "    data = pickle.load(f).astype(np.float32)\n",
    "data.dtype"
   ]
  },
  {
   "cell_type": "code",
   "execution_count": 1,
   "metadata": {},
   "outputs": [
    {
     "name": "stdout",
     "output_type": "stream",
     "text": [
      "(1, 2, 3)\n"
     ]
    },
    {
     "data": {
      "text/plain": [
       "1314"
      ]
     },
     "execution_count": 1,
     "metadata": {},
     "output_type": "execute_result"
    }
   ],
   "source": [
    "import numpy as np\n",
    "a = np.random.randn(1,2,3)\n",
    "b = np.random.randn(1,2,3)\n",
    "print(a.shape)\n",
    "\n",
    "c = np.concatenate((a,b), axis=-1)\n",
    "c.shape\n",
    "\n",
    "546+768"
   ]
  },
  {
   "cell_type": "code",
   "execution_count": 7,
   "metadata": {},
   "outputs": [
    {
     "name": "stdout",
     "output_type": "stream",
     "text": [
      "['D:\\\\Desktop\\\\code\\\\6th-ABAW\\\\test_data\\\\raw\\\\12660.mp4', 'D:\\\\Desktop\\\\code\\\\6th-ABAW\\\\test_data\\\\raw\\\\12661.mp4', 'D:\\\\Desktop\\\\code\\\\6th-ABAW\\\\test_data\\\\raw\\\\12662.mp4']\n",
      "4586\n"
     ]
    }
   ],
   "source": [
    "# 测试集详细信息\n",
    "import glob\n",
    "\n",
    "video_dir_path = r'D:\\Desktop\\code\\6th-ABAW\\test_data\\raw'\n",
    "\n",
    "videos_path = glob.glob(os.path.join(video_dir_path, '*'))\n",
    "videos_path.sort()\n",
    "\n",
    "print(videos_path[:3])\n",
    "print(len(videos_path))"
   ]
  }
 ],
 "metadata": {
  "kernelspec": {
   "display_name": "MMSA",
   "language": "python",
   "name": "python3"
  },
  "language_info": {
   "codemirror_mode": {
    "name": "ipython",
    "version": 3
   },
   "file_extension": ".py",
   "mimetype": "text/x-python",
   "name": "python",
   "nbconvert_exporter": "python",
   "pygments_lexer": "ipython3",
   "version": "3.8.18"
  }
 },
 "nbformat": 4,
 "nbformat_minor": 2
}
