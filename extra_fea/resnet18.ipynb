{
 "cells": [
  {
   "cell_type": "code",
   "execution_count": 1,
   "metadata": {},
   "outputs": [
    {
     "name": "stderr",
     "output_type": "stream",
     "text": [
      "c:\\ProgramFiles\\anaconda3\\envs\\MMSA\\lib\\site-packages\\tqdm\\auto.py:21: TqdmWarning: IProgress not found. Please update jupyter and ipywidgets. See https://ipywidgets.readthedocs.io/en/stable/user_install.html\n",
      "  from .autonotebook import tqdm as notebook_tqdm\n"
     ]
    }
   ],
   "source": [
    "import torch\n",
    "from collections import OrderedDict\n",
    "import pickle\n",
    "import os\n",
    "import glob\n",
    "from PIL import Image\n",
    "from torchvision import transforms"
   ]
  },
  {
   "cell_type": "code",
   "execution_count": 2,
   "metadata": {},
   "outputs": [],
   "source": [
    "a7_path = \"D:/Desktop/code/bishe/pre-data/video/affecnet7_epoch6_acc0.6569.pth\"\n",
    "a8_path = \"D:/Desktop/code/bishe/pre-data/video/affecnet8_epoch5_acc0.6209.pth\""
   ]
  },
  {
   "cell_type": "code",
   "execution_count": 3,
   "metadata": {},
   "outputs": [],
   "source": [
    "from torch import nn\n",
    "from torchvision.models import resnet18 \n",
    "\n",
    "resnet = resnet18()\n",
    "features_model = nn.Sequential(*list(resnet.children())[:-2])\n",
    "\n",
    "missing_keys, unexpected_keys = features_model.load_state_dict(torch.load(a7_path, map_location='cpu'), strict=False)\n",
    "# missing_keys, unexpected_keys = features.load_state_dict(weight, strict=False)    \n"
   ]
  },
  {
   "cell_type": "code",
   "execution_count": 5,
   "metadata": {},
   "outputs": [],
   "source": [
    "img_path = r\"D:\\Desktop\\code\\6th-ABAW\\test_data\\openface_img\""
   ]
  },
  {
   "cell_type": "code",
   "execution_count": 6,
   "metadata": {},
   "outputs": [
    {
     "name": "stdout",
     "output_type": "stream",
     "text": [
      "D:\\Desktop\\code\\6th-ABAW\\test_data\\resnet18\\16626\n"
     ]
    }
   ],
   "source": [
    "\n",
    "def totenser_normal(img):\n",
    "    transform = transforms.Compose([transforms.ToTensor(),\n",
    "                                    transforms.Normalize(mean=[0.485, 0.456, 0.406], std=[0.229, 0.224, 0.225])])\n",
    "    return transform(img)\n",
    "    \n",
    "img_dirs = glob.glob(os.path.join(img_path, '*'))\n",
    "img_dirs.sort()\n",
    "# print(len(img_dirs))\n",
    "# img_dirs = img_dirs[1721:]\n",
    "# img_dirs = img_dirs[11694:]\n",
    "# print(len(img_dirs),img_dirs[0])\n",
    "\n",
    "save_dir = r\"D:\\Desktop\\code\\6th-ABAW\\test_data\\resnet18\"\n",
    "if not os.path.exists(save_dir): os.makedirs(save_dir)\n",
    "\n",
    "for img_dir in img_dirs:\n",
    "\n",
    "    imgs = glob.glob(os.path.join(img_dir, '*'))\n",
    "    imgs.sort(key=lambda x: int(os.path.basename(x)[:-4]))\n",
    "    # print(imgs)\n",
    "    if len(imgs) != 0:\n",
    "        seg_imgs = [totenser_normal(Image.open(img).convert('RGB')) for img in imgs]\n",
    "        # print(totenser_normal(seg_imgs[0]).shape)\n",
    "        seg_imgs = torch.stack(seg_imgs) # (t, 3, 112, 112)\n",
    "        # print(seg_imgs.shape)\n",
    "        \n",
    "        # model\n",
    "        feature = features_model(seg_imgs)\n",
    "        feature = torch.mean(feature, dim=(-2, -1))\n",
    "        \n",
    "        # pickle.dumps\n",
    "        # print(img_dir[-4:])\n",
    "        p = os.path.join(save_dir, img_dir[-5:])\n",
    "        with open(f'{p}.pkl', 'wb') as f:\n",
    "            pickle.dump(feature, f)\n",
    "\n",
    "    else:\n",
    "        p = os.path.join(save_dir, img_dir[-5:])\n",
    "        # with open('kong_file.txt', 'a') as f1:\n",
    "        #     f1.write(p + '\\n')\n",
    "        print(p)\n",
    "\n",
    "        with open(f'{p}.pkl', 'wb') as f:\n",
    "            feature = torch.randn(5, 512) \n",
    "            pickle.dump(feature, f)\n",
    "   \n"
   ]
  },
  {
   "cell_type": "code",
   "execution_count": null,
   "metadata": {},
   "outputs": [],
   "source": []
  },
  {
   "cell_type": "code",
   "execution_count": 10,
   "metadata": {},
   "outputs": [
    {
     "name": "stdout",
     "output_type": "stream",
     "text": [
      "[[0. 0. 0. ... 1. 1. 0.]\n",
      " [0. 0. 0. ... 1. 1. 0.]\n",
      " [0. 0. 0. ... 1. 1. 0.]\n",
      " ...\n",
      " [0. 0. 0. ... 0. 0. 1.]\n",
      " [0. 0. 0. ... 0. 0. 1.]\n",
      " [0. 0. 0. ... 0. 0. 1.]]\n"
     ]
    }
   ],
   "source": [
    "import pickle\n",
    "\n",
    "with open(r'D:\\Desktop\\code\\6th-ABAW\\dataset\\openface_aus\\11694.pkl', 'rb') as f:\n",
    "    data = pickle.load(f)\n",
    "\n",
    "# data = data.detach().numpy()\n",
    "print(data)\n",
    "# feature = data[:200]\n",
    "# print(feature.shape)\n",
    "\n",
    "# with open(r'D:\\Desktop\\code\\6th-ABAW\\dataset\\openface_aus\\11694.pkl', 'wb') as f:\n",
    "#     pickle.dump(feature, f)\n",
    "\n",
    "# data.shape\n"
   ]
  }
 ],
 "metadata": {
  "kernelspec": {
   "display_name": "MMSA",
   "language": "python",
   "name": "python3"
  },
  "language_info": {
   "codemirror_mode": {
    "name": "ipython",
    "version": 3
   },
   "file_extension": ".py",
   "mimetype": "text/x-python",
   "name": "python",
   "nbconvert_exporter": "python",
   "pygments_lexer": "ipython3",
   "version": "3.8.18"
  }
 },
 "nbformat": 4,
 "nbformat_minor": 2
}
