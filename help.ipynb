{
 "cells": [
  {
   "cell_type": "code",
   "execution_count": 1,
   "metadata": {},
   "outputs": [
    {
     "name": "stdout",
     "output_type": "stream",
     "text": [
      "8072\n",
      "float32\n"
     ]
    },
    {
     "name": "stderr",
     "output_type": "stream",
     "text": [
      "c:\\ProgramFiles\\anaconda3\\envs\\MMSA\\lib\\site-packages\\tqdm\\auto.py:21: TqdmWarning: IProgress not found. Please update jupyter and ipywidgets. See https://ipywidgets.readthedocs.io/en/stable/user_install.html\n",
      "  from .autonotebook import tqdm as notebook_tqdm\n"
     ]
    }
   ],
   "source": [
    "import os\n",
    "import pandas as pd\n",
    "import os\n",
    "import pickle\n",
    "import torch\n",
    "import csv \n",
    "\n",
    "root = \"D:/Desktop/code/6th-ABAW/dataset/\"\n",
    "feature = [\"vit\",\"wav2vec2\"]\n",
    "vid_path = os.path.join(root, feature[0])\n",
    "aud_path = os.path.join(root, feature[1])\n",
    "\n",
    "\n",
    "\n",
    "csv_path = os.path.join(root, 'train_split.csv')\n",
    "\n",
    "df = pd.read_csv(csv_path)\n",
    "print(len(df))\n",
    "files_path = []\n",
    "lens = []\n",
    "for i in range(len(df)):\n",
    "    filename = str(df.iloc[i,0]).zfill(5)\n",
    "    # print(filename)\n",
    "    vidfile_path = os.path.join(vid_path, filename+'.pkl')\n",
    "    audfile_path = os.path.join(aud_path, filename+'.pkl')\n",
    "    with open(vidfile_path, 'rb') as f:\n",
    "        data = pickle.load(f)\n",
    "        # print(type(data))\n",
    "        print(data.dtype)\n",
    "        len = data.shape[0]\n",
    "        lens.append(len)\n",
    "        break\n",
    "\n",
    "\n",
    "\n"
   ]
  },
  {
   "cell_type": "code",
   "execution_count": null,
   "metadata": {},
   "outputs": [],
   "source": [
    "\n",
    "file_name = str(csv_data.iloc[0, 0]).zfill(5) + '.pkl'\n",
    "print(file_name)\n",
    "file_path = os.path.join(root,feature[1],file_name)\n",
    "print(file_path)\n",
    "with open(file_path, 'rb') as f:\n",
    "    data = pickle.load(f)\n",
    "print(type(data), data.shape)\n",
    "label = csv_data.iloc[0, 1:].to_numpy()\n",
    "print(type(label),label.shape)\n",
    "\n",
    "data_tensor = torch.tensor(data)\n",
    "label_tensor = torch.tensor(label, dtype=torch.float32)\n",
    "print(type(data_tensor), data_tensor.shape)\n",
    "print(type(label_tensor),label_tensor.shape)"
   ]
  },
  {
   "cell_type": "code",
   "execution_count": null,
   "metadata": {},
   "outputs": [],
   "source": [
    "import numpy as np\n",
    "\n",
    "# 假设原始数据的 shape 是 [t, d]\n",
    "\n",
    "# 创建原始数据\n",
    "data = np.array([[1,2,3],[2,5,6],[3,8,9],[4,2,3],[5,2,3],[6,2,3],[7,2,3],[8,2,3],[9,2,3],[10,2,3]])\n",
    "\n",
    "# 如果 t 小于 32，就将原始数据在时间维度上进行复制，直到 t 大于等于 32\n",
    "if data.shape[0] < 6:\n",
    "    data = np.pad(data, ((0, 6 - data.shape[0]), (0, 0)), mode='wrap')\n",
    "    \n",
    "# 在时间维度上等差的取出 32 个数据\n",
    "else:\n",
    "    indices = np.linspace(0, data.shape[0] - 1, num=6, dtype=int)\n",
    "    data = data[indices]\n",
    "\n",
    "print(data)\n",
    "print(data.shape)\n"
   ]
  },
  {
   "cell_type": "code",
   "execution_count": null,
   "metadata": {},
   "outputs": [],
   "source": [
    "import torch.nn as nn\n",
    "\n",
    "import torch\n",
    "\n",
    "x = torch.randn(4, 32, 128)\n",
    "\n",
    "x = x.transpose(2, 1)\n",
    "print(x.shape)"
   ]
  },
  {
   "cell_type": "code",
   "execution_count": null,
   "metadata": {},
   "outputs": [],
   "source": [
    "from scipy import stats\n",
    "import numpy as np\n",
    "\n",
    "def calc_pearsons(preds, labels):\n",
    "    r = stats.pearsonr(preds, labels)\n",
    "    return r[0]\n",
    "\n",
    "preds = np.array([np.random.rand() for i in range(10)])\n",
    "labels = np.zeros(10)\n",
    "preds, labels\n",
    "calc_pearsons(preds, labels)"
   ]
  },
  {
   "cell_type": "code",
   "execution_count": null,
   "metadata": {},
   "outputs": [],
   "source": [
    "import pandas as pd\n",
    "df = pd.read_csv(r'D:\\Desktop\\code\\6th-ABAW\\dataset\\valid_split.csv')\n",
    "df"
   ]
  },
  {
   "cell_type": "code",
   "execution_count": null,
   "metadata": {},
   "outputs": [],
   "source": [
    "for line in df.iloc:\n",
    "    v = line[1:].values\n",
    "    if v == np.zeros(6):\n",
    "    break"
   ]
  },
  {
   "cell_type": "code",
   "execution_count": null,
   "metadata": {},
   "outputs": [],
   "source": []
  },
  {
   "cell_type": "code",
   "execution_count": null,
   "metadata": {},
   "outputs": [],
   "source": [
    "import numpy as np\n",
    "\n",
    "data = np.load(r'D:\\Desktop\\code\\6th-ABAW\\EMI\\ns.npy',allow_pickle=True).item()\n",
    "data['preds']"
   ]
  },
  {
   "cell_type": "code",
   "execution_count": 3,
   "metadata": {},
   "outputs": [
    {
     "data": {
      "text/plain": [
       "4096"
      ]
     },
     "execution_count": 3,
     "metadata": {},
     "output_type": "execute_result"
    }
   ],
   "source": [
    "128*300\n",
    "128*32\n"
   ]
  },
  {
   "cell_type": "code",
   "execution_count": 5,
   "metadata": {},
   "outputs": [
    {
     "name": "stdout",
     "output_type": "stream",
     "text": [
      "平均值张量:\n",
      "tensor([[4., 5., 6.],\n",
      "        [7., 8., 9.]])\n"
     ]
    }
   ],
   "source": [
    "import torch\n",
    "\n",
    "# 定义两个二维张量\n",
    "tensor1 = torch.tensor([[1, 2, 3],\n",
    "                        [4, 5, 6]])\n",
    "\n",
    "tensor2 = torch.tensor([[7, 8, 9],\n",
    "                        [10, 11, 12]])\n",
    "\n",
    "# 将两个张量相加\n",
    "sum_tensor = tensor1 + tensor2\n",
    "\n",
    "# 求平均值\n",
    "average_tensor = sum_tensor / 2\n",
    "\n",
    "print(\"平均值张量:\")\n",
    "print(average_tensor)\n",
    "\n"
   ]
  },
  {
   "cell_type": "code",
   "execution_count": 9,
   "metadata": {},
   "outputs": [
    {
     "data": {
      "text/plain": [
       "torch.Size([2, 6])"
      ]
     },
     "execution_count": 9,
     "metadata": {},
     "output_type": "execute_result"
    }
   ],
   "source": [
    "import torch\n",
    "\n",
    "def decision_and_fusion(video_predictions, audio_predictions, video_weight=0.5, threshold=0.5):\n",
    "    \"\"\"\n",
    "    视频和音频预测结果的融合函数\n",
    "    \n",
    "    参数：\n",
    "    - video_predictions: 视频模态的预测结果，形状为 (batch_size, num_classes)\n",
    "    - audio_predictions: 音频模态的预测结果，形状为 (batch_size, num_classes)\n",
    "    - video_weight: 视频模态的权重，默认为0.5\n",
    "    - threshold: 用于决策的阈值，默认为0.5\n",
    "    \n",
    "    返回值：\n",
    "    - fusion: 融合后的最终预测结果，形状为 (batch_size, num_classes)\n",
    "    \"\"\"\n",
    "    # 对视频和音频模态的预测结果进行加权平均\n",
    "    fusion = video_weight * video_predictions + (1 - video_weight) * audio_predictions\n",
    "    \n",
    "    # 根据阈值进行决策\n",
    "    fusion_decision = (fusion >= threshold).int()\n",
    "    \n",
    "    return fusion_decision\n",
    "\n",
    "# 示例用法\n",
    "video_predictions = torch.tensor([[0.8, 0.6, 0.4],\n",
    "                                  [0.7, 0.5, 0.3]])\n",
    "\n",
    "audio_predictions = torch.tensor([[0.6, 0.7, 0.5],\n",
    "                                  [0.4, 0.6, 0.8]])\n",
    "\n",
    "# fusion = decision_and_fusion(video_predictions, audio_predictions, video_weight=0.5, threshold=0.5)\n",
    "# print(\"融合结果:\")\n",
    "# print(fusion)\n",
    "c = torch.concat((video_predictions, audio_predictions), dim=1)\n",
    "c.shape"
   ]
  },
  {
   "cell_type": "code",
   "execution_count": 5,
   "metadata": {},
   "outputs": [
    {
     "name": "stdout",
     "output_type": "stream",
     "text": [
      "加权平均:\n",
      "tensor([[4.3333, 3.3333],\n",
      "        [3.0000, 3.3333]])\n"
     ]
    }
   ],
   "source": [
    "import torch\n",
    "\n",
    "def weighted_average_elementwise(tensor1, tensor2):\n",
    "    # 计算权重之和\n",
    "    total_weights = tensor1 + tensor2\n",
    "    # 计算加权平均\n",
    "    weighted_avg_tensor = (tensor1 * tensor1 + tensor2 * tensor2) / total_weights\n",
    "    return weighted_avg_tensor\n",
    "\n",
    "# 示例用法\n",
    "tensor1 = torch.tensor([[5, 4],\n",
    "                        [3, 2]])\n",
    "\n",
    "tensor2 = torch.tensor([[1, 2],\n",
    "                        [3, 4]])\n",
    "\n",
    "result = weighted_average_elementwise(tensor1, tensor2)\n",
    "print(\"加权平均:\")\n",
    "print(result)\n",
    "\n",
    "\n"
   ]
  },
  {
   "cell_type": "code",
   "execution_count": 2,
   "metadata": {},
   "outputs": [
    {
     "name": "stdout",
     "output_type": "stream",
     "text": [
      "tensor([False,  True, False,  True])\n",
      "去除全零行后的张量:\n",
      "tensor([[1., 2., 3.],\n",
      "        [4., 5., 6.]])\n"
     ]
    }
   ],
   "source": [
    "import torch\n",
    "\n",
    "# 假设 tensor 是你的二维张量\n",
    "tensor = torch.tensor([[0.0, 0.0, 0.0],\n",
    "                       [1.0, 2.0, 3.0],\n",
    "                       [0.0, 0.0, 0.0],\n",
    "                       [4.0, 5.0, 6.0]])\n",
    "\n",
    "# 判断每一行是否全为零\n",
    "nonzero_rows_mask = torch.any(tensor != 0, dim=1)\n",
    "\n",
    "\n",
    "# 使用掩码来过滤非零行\n",
    "nonzero_rows = tensor[nonzero_rows_mask]\n",
    "\n",
    "print(\"去除全零行后的张量:\")\n",
    "print(nonzero_rows)\n"
   ]
  }
 ],
 "metadata": {
  "kernelspec": {
   "display_name": "MMSA",
   "language": "python",
   "name": "python3"
  },
  "language_info": {
   "codemirror_mode": {
    "name": "ipython",
    "version": 3
   },
   "file_extension": ".py",
   "mimetype": "text/x-python",
   "name": "python",
   "nbconvert_exporter": "python",
   "pygments_lexer": "ipython3",
   "version": "3.8.18"
  }
 },
 "nbformat": 4,
 "nbformat_minor": 2
}
