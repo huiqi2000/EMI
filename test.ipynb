{
 "cells": [
  {
   "cell_type": "code",
   "execution_count": 2,
   "metadata": {},
   "outputs": [],
   "source": [
    "import os\n",
    "import glob\n",
    "import pandas as pd\n",
    "import numpy as np\n",
    "\n"
   ]
  },
  {
   "cell_type": "code",
   "execution_count": 3,
   "metadata": {},
   "outputs": [
    {
     "name": "stdout",
     "output_type": "stream",
     "text": [
      "['D:\\\\Desktop\\\\code\\\\6th-ABAW\\\\test_data\\\\video\\\\12660.mp4', 'D:\\\\Desktop\\\\code\\\\6th-ABAW\\\\test_data\\\\video\\\\12661.mp4']\n",
      "[12660, 12661, 12662]\n",
      "(4586,)\n"
     ]
    }
   ],
   "source": [
    "dataset = r'D:\\Desktop\\code\\6th-ABAW\\test_data'\n",
    "\n",
    "video = 'video'\n",
    "videos_dir_path = os.path.join(dataset, video)\n",
    "\n",
    "videos_path = glob.glob(os.path.join(videos_dir_path, '*'))\n",
    "videos_path.sort()\n",
    "print(videos_path[:2])\n",
    "\n",
    "file_names = [int(video_path[-9:-4]) for video_path in videos_path]\n",
    "file_names.sort()\n",
    "print(file_names[:3])\n",
    "filenames_arr = np.array(file_names)\n",
    "print(filenames_arr.shape)\n",
    "\n",
    "df = pd.DataFrame({'filename' :filenames_arr})\n",
    "\n",
    "df.to_csv('./test_split.csv', index=False)\n",
    "\n",
    "\n",
    "\n",
    "\n",
    "\n",
    "\n",
    "\n",
    "\n",
    "\n",
    "\n"
   ]
  },
  {
   "cell_type": "code",
   "execution_count": 43,
   "metadata": {},
   "outputs": [
    {
     "name": "stdout",
     "output_type": "stream",
     "text": [
      "新的 CSV 文件已创建: result.csv\n"
     ]
    }
   ],
   "source": [
    "data1 = np.random.randn(4586, 6)\n",
    "\n",
    "# 假设你有一个现有的 CSV 文件，文件名为 existing.csv\n",
    "test_split = r'D:\\Desktop\\code\\6th-ABAW\\test_data\\test_split.csv'\n",
    "\n",
    "# 读取现有的 CSV 文件\n",
    "existing_df = pd.read_csv(test_split)\n",
    "\n",
    "# 假设你有一个 NumPy 数组 new_data，形状为 (4586, 6)，包含了要添加的六列数据\n",
    "data1 = np.random.randn(4586, 6)\n",
    "\n",
    "# 将新的数据添加到 DataFrame 中，假设列名为 ['Admiration', 'Amusement', 'Determination', 'Empathic Pain', 'Excitement', 'Joy']\n",
    "new_columns = ['Admiration', 'Amusement', 'Determination', 'Empathic Pain', 'Excitement', 'Joy']\n",
    "for i, col in enumerate(new_columns):\n",
    "    existing_df[col] = data1[:, i]\n",
    "\n",
    "# 设置要保存的新 CSV 文件名\n",
    "new_csv_filename = 'result.csv'\n",
    "\n",
    "# 将 DataFrame 对象保存为新的 CSV 文件\n",
    "existing_df.to_csv(new_csv_filename, index=False)\n",
    "\n",
    "print(\"新的 CSV 文件已创建:\", new_csv_filename)"
   ]
  },
  {
   "cell_type": "code",
   "execution_count": null,
   "metadata": {},
   "outputs": [],
   "source": [
    "data = np.random.randn(2, 3)\n",
    "data"
   ]
  }
 ],
 "metadata": {
  "kernelspec": {
   "display_name": "MMSA",
   "language": "python",
   "name": "python3"
  },
  "language_info": {
   "codemirror_mode": {
    "name": "ipython",
    "version": 3
   },
   "file_extension": ".py",
   "mimetype": "text/x-python",
   "name": "python",
   "nbconvert_exporter": "python",
   "pygments_lexer": "ipython3",
   "version": "3.8.18"
  }
 },
 "nbformat": 4,
 "nbformat_minor": 2
}
